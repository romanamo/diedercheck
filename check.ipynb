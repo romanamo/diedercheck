{
 "cells": [
  {
   "cell_type": "markdown",
   "metadata": {},
   "source": [
    "### Dihedral group"
   ]
  },
  {
   "cell_type": "markdown",
   "metadata": {},
   "source": [
    "The dihedral group $D_n$ represents the symmetries of a regular $n$-sided polygon with $n \\geq 3$. We plot the Cayley table for $D_5$"
   ]
  },
  {
   "cell_type": "code",
   "execution_count": 1,
   "metadata": {},
   "outputs": [
    {
     "name": "stdout",
     "output_type": "stream",
     "text": [
      "|-----|-----|-----|-----|-----|-----|-----|-----|-----|-----|\n",
      "| e   | d0  | d1  | d2  | d3  | s   | sd0 | sd1 | sd2 | sd3 |\n",
      "| d0  | d1  | d2  | d3  | e   | sd0 | sd1 | sd2 | sd3 | s   |\n",
      "| d1  | d2  | d3  | e   | d0  | sd1 | sd2 | sd3 | s   | sd0 |\n",
      "| d2  | d3  | e   | d0  | d1  | sd2 | sd3 | s   | sd0 | sd1 |\n",
      "| d3  | e   | d0  | d1  | d2  | sd3 | s   | sd0 | sd1 | sd2 |\n",
      "| s   | sd3 | sd2 | sd1 | sd0 | e   | d3  | d2  | d1  | d0  |\n",
      "| sd0 | s   | sd3 | sd2 | sd1 | d0  | e   | d3  | d2  | d1  |\n",
      "| sd1 | sd0 | s   | sd3 | sd2 | d1  | d0  | e   | d3  | d2  |\n",
      "| sd2 | sd1 | sd0 | s   | sd3 | d2  | d1  | d0  | e   | d3  |\n",
      "| sd3 | sd2 | sd1 | sd0 | s   | d3  | d2  | d1  | d0  | e   |\n"
     ]
    }
   ],
   "source": [
    "from tabulate import tabulate\n",
    "from dihedral import Dihedral\n",
    "\n",
    "d5 = Dihedral(5)\n",
    "\n",
    "print(tabulate(d5.table(naming=\"numbers\"), tablefmt=\"github\"))"
   ]
  },
  {
   "cell_type": "markdown",
   "metadata": {},
   "source": [
    "A colorization of the $D_5$ Cayley table."
   ]
  },
  {
   "cell_type": "code",
   "execution_count": 2,
   "metadata": {},
   "outputs": [
    {
     "data": {
      "image/png": "[encoded data removed]",
      "text/plain": [
       "<Figure size 480x480 with 1 Axes>"
      ]
     },
     "metadata": {},
     "output_type": "display_data"
    }
   ],
   "source": [
    "import matplotlib.pyplot as plt\n",
    "\n",
    "table = d5.table(naming=\"numbers\")\n",
    "\n",
    "plt.matshow(table)\n",
    "plt.show()"
   ]
  },
  {
   "cell_type": "markdown",
   "metadata": {},
   "source": [
    "### Validate a Serial Number of the Deutsche Mark"
   ]
  },
  {
   "cell_type": "markdown",
   "metadata": {},
   "source": [
    "Lets check a valid serial number: `UG4985107G0`."
   ]
  },
  {
   "cell_type": "code",
   "execution_count": 3,
   "metadata": {},
   "outputs": [
    {
     "data": {
      "text/plain": [
       "True"
      ]
     },
     "execution_count": 3,
     "metadata": {},
     "output_type": "execute_result"
    }
   ],
   "source": [
    "from check import DeutscheMark\n",
    "\n",
    "dm = DeutscheMark()\n",
    "\n",
    "dm.check(\"UG4985107G0\")"
   ]
  },
  {
   "cell_type": "code",
   "execution_count": 4,
   "metadata": {},
   "outputs": [
    {
     "data": {
      "text/plain": [
       "True"
      ]
     },
     "execution_count": 4,
     "metadata": {},
     "output_type": "execute_result"
    }
   ],
   "source": [
    "dm.check(\"DS5885114Y8\")"
   ]
  },
  {
   "cell_type": "markdown",
   "metadata": {},
   "source": [
    "And an invalid one by changing up the last digit."
   ]
  },
  {
   "cell_type": "code",
   "execution_count": 5,
   "metadata": {},
   "outputs": [
    {
     "data": {
      "text/plain": [
       "False"
      ]
     },
     "execution_count": 5,
     "metadata": {},
     "output_type": "execute_result"
    }
   ],
   "source": [
    "dm.check(\"UG4985107G1\")"
   ]
  },
  {
   "cell_type": "markdown",
   "metadata": {},
   "source": [
    "### Permutations"
   ]
  },
  {
   "cell_type": "markdown",
   "metadata": {},
   "source": [
    "We also have permutations in one-line notation! Lets get the identity permutation"
   ]
  },
  {
   "cell_type": "code",
   "execution_count": 6,
   "metadata": {},
   "outputs": [
    {
     "data": {
      "text/plain": [
       "P[0, 1, 2, 3, 4]"
      ]
     },
     "execution_count": 6,
     "metadata": {},
     "output_type": "execute_result"
    }
   ],
   "source": [
    "from dihedral import Permutation\n",
    "\n",
    "Permutation.identity(5)"
   ]
  },
  {
   "cell_type": "markdown",
   "metadata": {},
   "source": [
    "Lets compose two permutations: $a \\circ b = (2 ~ 0 ~ 1) \\circ (0 ~ 2 ~ 1) =  (2 ~ 1 ~ 0)$."
   ]
  },
  {
   "cell_type": "code",
   "execution_count": 7,
   "metadata": {},
   "outputs": [
    {
     "data": {
      "text/plain": [
       "P[2, 1, 0]"
      ]
     },
     "execution_count": 7,
     "metadata": {},
     "output_type": "execute_result"
    }
   ],
   "source": [
    "a = Permutation([2,0,1])\n",
    "b = Permutation([0,2,1])\n",
    "\n",
    "a * b"
   ]
  },
  {
   "cell_type": "markdown",
   "metadata": {},
   "source": [
    "Whats the inverse of a permutation? For example lets take $a = (2 ~ 0 ~ 1)$ again!"
   ]
  },
  {
   "cell_type": "code",
   "execution_count": 8,
   "metadata": {},
   "outputs": [
    {
     "data": {
      "text/plain": [
       "P[1, 2, 0]"
      ]
     },
     "execution_count": 8,
     "metadata": {},
     "output_type": "execute_result"
    }
   ],
   "source": [
    "a_inverse = a.inverse()\n",
    "\n",
    "a_inverse"
   ]
  },
  {
   "cell_type": "markdown",
   "metadata": {},
   "source": [
    "Lets check if we are right!"
   ]
  },
  {
   "cell_type": "code",
   "execution_count": 9,
   "metadata": {},
   "outputs": [
    {
     "data": {
      "text/plain": [
       "True"
      ]
     },
     "execution_count": 9,
     "metadata": {},
     "output_type": "execute_result"
    }
   ],
   "source": [
    "a * a_inverse == a_inverse * a == Permutation.identity(3)"
   ]
  }
 ],
 "metadata": {
  "kernelspec": {
   "display_name": "Python 3",
   "language": "python",
   "name": "python3"
  },
  "language_info": {
   "codemirror_mode": {
    "name": "ipython",
    "version": 3
   },
   "file_extension": ".py",
   "mimetype": "text/x-python",
   "name": "python",
   "nbconvert_exporter": "python",
   "pygments_lexer": "ipython3",
   "version": "3.12.2"
  }
 },
 "nbformat": 4,
 "nbformat_minor": 2
}
