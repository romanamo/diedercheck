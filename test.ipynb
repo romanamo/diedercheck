{
 "cells": [
  {
   "cell_type": "code",
   "execution_count": 4,
   "metadata": {},
   "outputs": [
    {
     "name": "stdout",
     "output_type": "stream",
     "text": [
      "|---|---|---|---|\n",
      "| 0 | 1 | 1 | 0 |\n",
      "| 1 | 0 | 0 | 1 |\n",
      "| 1 | 0 | 0 | 1 |\n",
      "| 0 | 1 | 1 | 0 |\n"
     ]
    }
   ],
   "source": [
    "import groups\n",
    "import tabulate\n",
    "\n",
    "d5 = groups.Dieder(3)\n",
    "table = d5.table(\"numbers\")\n",
    "\n",
    "print(tabulate.tabulate(d5.table(\"numbers\"), tablefmt=\"github\"))"
   ]
  },
  {
   "cell_type": "markdown",
   "metadata": {},
   "source": [
    "### Überprüfen einer gültigen Seriennummer"
   ]
  },
  {
   "cell_type": "code",
   "execution_count": 4,
   "metadata": {},
   "outputs": [
    {
     "name": "stdout",
     "output_type": "stream",
     "text": [
      "True\n"
     ]
    }
   ],
   "source": [
    "from check import DeutscheMark\n",
    "\n",
    "dm = DeutscheMark()\n",
    "\n",
    "print(dm.check(\"UG4985107G0\"))"
   ]
  },
  {
   "cell_type": "code",
   "execution_count": 7,
   "metadata": {},
   "outputs": [
    {
     "data": {
      "text/plain": [
       "6"
      ]
     },
     "execution_count": 7,
     "metadata": {},
     "output_type": "execute_result"
    }
   ],
   "source": [
    "d5 = groups.Dieder(5)\n",
    "\n",
    "d5.dn.index(d5.dn[9] * d5.dn[3])"
   ]
  },
  {
   "cell_type": "code",
   "execution_count": 3,
   "metadata": {},
   "outputs": [
    {
     "name": "stdout",
     "output_type": "stream",
     "text": [
      "P[0, 2, 1]\n"
     ]
    }
   ],
   "source": [
    "from groups import Permutation\n",
    "\n",
    "p1 = Permutation([1,0,2])\n",
    "p2 = Permutation([1,2,0])\n",
    "\n",
    "print(p1 * p2)"
   ]
  }
 ],
 "metadata": {
  "kernelspec": {
   "display_name": "Python 3",
   "language": "python",
   "name": "python3"
  },
  "language_info": {
   "codemirror_mode": {
    "name": "ipython",
    "version": 3
   },
   "file_extension": ".py",
   "mimetype": "text/x-python",
   "name": "python",
   "nbconvert_exporter": "python",
   "pygments_lexer": "ipython3",
   "version": "3.12.2"
  }
 },
 "nbformat": 4,
 "nbformat_minor": 2
}
